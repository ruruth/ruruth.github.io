{
 "cells": [
  {
   "cell_type": "code",
   "execution_count": 6,
   "metadata": {},
   "outputs": [
    {
     "data": {
      "text/plain": [
       "True"
      ]
     },
     "execution_count": 6,
     "metadata": {},
     "output_type": "execute_result"
    }
   ],
   "source": [
    "# Open the webpage that we are going to scrape.\n",
    "import webbrowser\n",
    "webbrowser.open_new('https://www.apartmenthomeliving.com/new-york-city-ny?page=')"
   ]
  },
  {
   "cell_type": "code",
   "execution_count": 3,
   "metadata": {},
   "outputs": [],
   "source": [
    "# The requests module allows you to send HTTP requests using Python.\n",
    "# The HTTP request returns a Response Object with all the response data (content, encoding, status, etc).\n",
    "import requests\n",
    "\n",
    "# Beautiful Soup is a Python library for pulling data out of HTML and XML files.\n",
    "# It creates a parse tree for parsed pages that can be used to extract data from HTML.\n",
    "from bs4 import BeautifulSoup\n",
    "\n",
    "# Pandas is built on the Numpy package and its key data structure is called the DataFrame.\n",
    "# DataFrames allow you to store and manipulate tabular data in rows of observations and columns of variables.\n",
    "import pandas as pd\n"
   ]
  },
  {
   "cell_type": "code",
   "execution_count": 4,
   "metadata": {
    "scrolled": false
   },
   "outputs": [],
   "source": [
    "# The User-Agent request header is a characteristic string that lets servers and network peers \n",
    "# identify the application, operating system, vendor, and/or version of the requesting user agent.\n",
    "# Chrome: inspect --> network --> All --> website address --> Headers --> User-Agent\n",
    "headers = {'User-Agent':'Mozilla/5.0 (Macintosh; Intel Mac OS X 11_0_1) AppleWebKit/537.36 (KHTML, like Gecko) Chrome/87.0.4280.88 Safari/537.36'}\n",
    "\n",
    "# Create an empty DataFrame with column names.\n",
    "column_names = [\"name\", \"address\", \"beds\", \"price\"]\n",
    "house = pd.DataFrame(columns = column_names)\n",
    "\n",
    "# From page 1 to 4.\n",
    "for i in range (1,5):\n",
    "    \n",
    "    # By observation, changes the page number in url changes to different page.\n",
    "    url = \"https://www.apartmenthomeliving.com/new-york-city-ny?page=\"+str(i)\n",
    "    \n",
    "    # To get or retrieve data from the link, and send out the header to the website.\n",
    "    page = requests.get(url, headers=headers)\n",
    "    \n",
    "    # Use BeautifulSoup to creates a parse tree.\n",
    "    soup = BeautifulSoup(page.content, 'html.parser')\n",
    "    \n",
    "    # The value of the id attribute must be unique within the HTML document.\n",
    "    posts = soup.find(id = \"property_list\")\n",
    "    \n",
    "    # Find all name on page i at one time.\n",
    "    name_tags = posts.select(\".property_link\")\n",
    "    name = [nt.get_text() for nt in name_tags]\n",
    "    \n",
    "    # Find all address on page i at one time.\n",
    "    address_tags = posts.select(\".address\")\n",
    "    address = [at.get_text() for at in address_tags]\n",
    "    \n",
    "    # Find all beds of the page i at one time.\n",
    "    beds_tags = posts.select(\".bedrooms\")\n",
    "    beds = [pt.get_text() for pt in beds_tags]\n",
    "    \n",
    "    # Find all price of the page i at one time.\n",
    "    price_tags = posts.select(\".prices\")\n",
    "    price = [pt.get_text() for pt in price_tags]\n",
    "    \n",
    "    # Converts lists to DataFrame.\n",
    "    df = pd.DataFrame({\n",
    "        \"name\":name,\n",
    "        \"address\":address,\n",
    "        \"beds\":beds,\n",
    "        \"price\":price\n",
    "    })\n",
    "    \n",
    "    # Append df to house.\n",
    "    house = house.append(df, ignore_index=True)\n",
    "    \n",
    "# Output a csv file.\n",
    "house.to_csv('output.csv', mode='w')\n"
   ]
  },
  {
   "cell_type": "code",
   "execution_count": null,
   "metadata": {},
   "outputs": [],
   "source": []
  }
 ],
 "metadata": {
  "kernelspec": {
   "display_name": "Python 3",
   "language": "python",
   "name": "python3"
  },
  "language_info": {
   "codemirror_mode": {
    "name": "ipython",
    "version": 3
   },
   "file_extension": ".py",
   "mimetype": "text/x-python",
   "name": "python",
   "nbconvert_exporter": "python",
   "pygments_lexer": "ipython3",
   "version": "3.8.5"
  }
 },
 "nbformat": 4,
 "nbformat_minor": 4
}
